{
 "cells": [
  {
   "cell_type": "code",
   "execution_count": 8,
   "metadata": {},
   "outputs": [
    {
     "name": "stdout",
     "output_type": "stream",
     "text": [
      "The autoreload extension is already loaded. To reload it, use:\n",
      "  %reload_ext autoreload\n"
     ]
    }
   ],
   "source": [
    "%load_ext autoreload\n",
    "%autoreload 2\n",
    " \n",
    "from generate_layout import simulation"
   ]
  },
  {
   "cell_type": "code",
   "execution_count": 9,
   "metadata": {},
   "outputs": [],
   "source": [
    "box_dim = (8, 10)"
   ]
  },
  {
   "cell_type": "code",
   "execution_count": null,
   "metadata": {
    "scrolled": false
   },
   "outputs": [
    {
     "name": "stdout",
     "output_type": "stream",
     "text": [
      "Number of modules is bounded by 8\n",
      "Simulation 1...\n",
      "Layout from 1 simulation can fit in 2 modules\n",
      "Simulation 2...\n",
      "Layout from 2 simulation can fit in 2 modules\n",
      "Simulation 3...\n",
      "Layout from 3 simulation can fit in 2 modules\n",
      "Simulation 4...\n",
      "Layout from 4 simulation can fit in 1 modules\n",
      "Simulation 5...\n",
      "Layout from 5 simulation can fit in 1 modules\n",
      "Simulation 6...\n",
      "Layout from 6 simulation can fit in 3 modules\n",
      "Simulation 7...\n",
      "Layout from 7 simulation can fit in 1 modules\n",
      "Simulation 8...\n",
      "Layout from 8 simulation can fit in 2 modules\n",
      "Simulation 9...\n",
      "Layout from 9 simulation can fit in 3 modules\n",
      "Simulation 10...\n",
      "Layout from 10 simulation can fit in 1 modules\n",
      "Simulation 11...\n"
     ]
    }
   ],
   "source": [
    "M_module_coordinates = [(0, 0), (0, 5), (3, 5), (1, 3), (3, 0)] # start from (0, 0)\n",
    "M_modules = simulation(box_dim, M_module_coordinates, N=50, \n",
    "                       plot_name='M', random_search=True)"
   ]
  },
  {
   "cell_type": "code",
   "execution_count": null,
   "metadata": {
    "scrolled": false
   },
   "outputs": [],
   "source": [
    "L_module_coordinates = [(0, 0), (0, 4), (1, 4), (1, 1), (2, 1), (2, 0)]\n",
    "L_modules = simulation(box_dim, L_module_coordinates, max_iter_per_simulation=500, N=10, plot_name='L')"
   ]
  }
 ],
 "metadata": {
  "kernelspec": {
   "display_name": "Python 3",
   "language": "python",
   "name": "python3"
  },
  "language_info": {
   "codemirror_mode": {
    "name": "ipython",
    "version": 3
   },
   "file_extension": ".py",
   "mimetype": "text/x-python",
   "name": "python",
   "nbconvert_exporter": "python",
   "pygments_lexer": "ipython3",
   "version": "3.6.8"
  }
 },
 "nbformat": 4,
 "nbformat_minor": 2
}
